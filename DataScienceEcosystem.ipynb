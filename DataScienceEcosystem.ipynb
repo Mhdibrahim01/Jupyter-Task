{
 "cells": [
  {
   "cell_type": "markdown",
   "id": "eb005453-a446-4fa2-97fc-9bb13b77dcf7",
   "metadata": {},
   "source": [
    "# Data Science Tools and Ecosystem"
   ]
  },
  {
   "cell_type": "markdown",
   "id": "b0cff1a8-3b0f-4ac1-bc2f-98110daf5d0b",
   "metadata": {},
   "source": [
    "## In this notebook, Data Science Tools and Ecosystem are summarized."
   ]
  },
  {
   "cell_type": "markdown",
   "id": "0ac51653-a768-4fd8-ad6a-866e909339d6",
   "metadata": {},
   "source": [
    "**Objective**\n",
    "- Popular Language For Data Science.\n",
    "- Common used libraries By Data Scientists.\n",
    "- List popular open-source development environments for Data Science.\n",
    "- Demonstrate simple arithmetic operations in Python.\n",
    "- Explore basic Markdown formatting in Jupyter Notebook."
   ]
  },
  {
   "cell_type": "markdown",
   "id": "03781532-9d9f-45eb-b5c8-f56c94a284b7",
   "metadata": {},
   "source": [
    "**Some of the popular languages that Data Scientists use are:**\n",
    "1. R\n",
    "2. Python\n",
    "3. Julia\n",
    "4. SQL"
   ]
  },
  {
   "cell_type": "markdown",
   "id": "808bfb0f-8e3e-4ddb-8e60-8fe78223ac78",
   "metadata": {},
   "source": [
    "**Some of the commonly used libraries used by Data Scientists include:**\n",
    "1. Pandas\n",
    "2. Numby\n",
    "3. Matplotlib\n",
    "4. Tensorflow\n",
    "5. scikit-learn"
   ]
  },
  {
   "cell_type": "markdown",
   "id": "fc98509e-0a21-4f6f-ae7d-7d581856197d",
   "metadata": {},
   "source": [
    "<table style=\"width:100%; text-align:center; border-collapse:collapse; border:1px solid black;\">\n",
    "  <tr>\n",
    "    <th style=\"border:1px solid black; padding:10px;\">Data Science Tools</th>\n",
    "  </tr>\n",
    "  <tr>\n",
    "    <td style=\"border:1px solid black; padding:10px;\">Jupyter</td>\n",
    "  </tr>\n",
    "  <tr>\n",
    "    <td style=\"border:1px solid black; padding:10px;\">RStudio</td>\n",
    "  </tr>\n",
    "  <tr>\n",
    "    <td style=\"border:1px solid black; padding:10px;\">Visual Studio Code</td>\n",
    "  </tr>\n",
    "</table>"
   ]
  },
  {
   "cell_type": "markdown",
   "id": "d068e4e8-2ca1-4a6e-97e8-cdc5e795b84e",
   "metadata": {},
   "source": [
    "### Below are a few examples of evaluating arithmetic expressions in Python"
   ]
  },
  {
   "cell_type": "code",
   "execution_count": 8,
   "id": "210733eb-7dc9-4c40-82f4-795b2ca77f0b",
   "metadata": {},
   "outputs": [
    {
     "data": {
      "text/plain": [
       "17"
      ]
     },
     "execution_count": 8,
     "metadata": {},
     "output_type": "execute_result"
    }
   ],
   "source": [
    "#This a simple arithmetic expression to mutiply then add integers\n",
    "(3*4)+5"
   ]
  },
  {
   "cell_type": "code",
   "execution_count": 10,
   "id": "becdc37b-777d-4f63-a585-2ffdb1164cbb",
   "metadata": {},
   "outputs": [
    {
     "data": {
      "text/plain": [
       "3.3333333333333335"
      ]
     },
     "execution_count": 10,
     "metadata": {},
     "output_type": "execute_result"
    }
   ],
   "source": [
    "#This will convert 200 minutes to hours by diving by 60\n",
    "200/60"
   ]
  },
  {
   "cell_type": "markdown",
   "id": "d6acf60b-0d0d-41ce-830c-a9ea5adc63f5",
   "metadata": {},
   "source": [
    "## Author\n",
    "Mahmoud Ibrahim"
   ]
  }
 ],
 "metadata": {
  "kernelspec": {
   "display_name": "Python 3 (ipykernel)",
   "language": "python",
   "name": "python3"
  },
  "language_info": {
   "codemirror_mode": {
    "name": "ipython",
    "version": 3
   },
   "file_extension": ".py",
   "mimetype": "text/x-python",
   "name": "python",
   "nbconvert_exporter": "python",
   "pygments_lexer": "ipython3",
   "version": "3.11.7"
  }
 },
 "nbformat": 4,
 "nbformat_minor": 5
}
